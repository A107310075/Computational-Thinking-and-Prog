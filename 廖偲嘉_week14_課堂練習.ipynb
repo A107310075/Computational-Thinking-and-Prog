{
  "nbformat": 4,
  "nbformat_minor": 0,
  "metadata": {
    "colab": {
      "name": "廖偲嘉_week14_課堂練習.ipynb",
      "provenance": [],
      "authorship_tag": "ABX9TyNg0f5A2ZSNgkKRq2sFEy2C",
      "include_colab_link": true
    },
    "kernelspec": {
      "name": "python3",
      "display_name": "Python 3"
    },
    "language_info": {
      "name": "python"
    }
  },
  "cells": [
    {
      "cell_type": "markdown",
      "metadata": {
        "id": "view-in-github",
        "colab_type": "text"
      },
      "source": [
        "<a href=\"https://colab.research.google.com/github/A107310075/Computational-Thinking-and-Prog/blob/main/%E5%BB%96%E5%81%B2%E5%98%89_week14_%E8%AA%B2%E5%A0%82%E7%B7%B4%E7%BF%92.ipynb\" target=\"_parent\"><img src=\"https://colab.research.google.com/assets/colab-badge.svg\" alt=\"Open In Colab\"/></a>"
      ]
    },
    {
      "cell_type": "code",
      "metadata": {
        "colab": {
          "base_uri": "https://localhost:8080/"
        },
        "id": "8bWoSHFe9kzP",
        "outputId": "292f232c-5715-4875-e2d9-a0922496d14e"
      },
      "source": [
        "## Input Data\n",
        "my_choice = int(input(\"請出拳 [0] 蟲 [1] 雞 [2] 老虎 [3] 棒⼦\"))\n",
        "print(\"你出的拳:\", my_choice)\n",
        "import random\n",
        "com_choice = random.randint(0, 3)\n",
        "print(\"電腦出拳為\", com_choice)\n",
        "if my_choice == (com_choice + 1) % 4:\n",
        "   print(\"我贏了\")\n",
        "elif com_choice == (my_choice + 1) % 4:\n",
        "   print(\"電腦贏了\")\n",
        "else:\n",
        "   print(\"平⼿\")"
      ],
      "execution_count": 24,
      "outputs": [
        {
          "output_type": "stream",
          "text": [
            "請出拳 [0] 蟲 [1] 雞 [2] 老虎 [3] 棒⼦3\n",
            "你出的拳: 3\n",
            "電腦出拳為 2\n",
            "我贏了\n"
          ],
          "name": "stdout"
        }
      ]
    },
    {
      "cell_type": "code",
      "metadata": {
        "colab": {
          "base_uri": "https://localhost:8080/"
        },
        "id": "j9pO37_S3p9T",
        "outputId": "0def5902-14a8-47df-e61f-fd282a320ea7"
      },
      "source": [
        "## Input Data\n",
        "movie_title = input('請輸入電影名稱：')\n",
        "movie_rating = float(input('請輸入電影的評等：'))\n",
        "\n",
        "if movie_rating > 7:\n",
        "    print(f\"{movie_title}的評分為{movie_rating}分值得去看！\")\n",
        "if movie_rating <= 7:\n",
        "    print(f\"{movie_title}的評分為 {movie_rating}分不值得去看，浪費時間！\")"
      ],
      "execution_count": 3,
      "outputs": [
        {
          "output_type": "stream",
          "text": [
            "請輸入電影名稱：Father\n",
            "請輸入電影的評等：8.3\n",
            "Father的評分為8.3分值得去看！\n"
          ],
          "name": "stdout"
        }
      ]
    },
    {
      "cell_type": "code",
      "metadata": {
        "colab": {
          "base_uri": "https://localhost:8080/"
        },
        "id": "fA7yexov5Gls",
        "outputId": "d4a19c59-f2d5-4437-f17f-3ba25fd9bbb3"
      },
      "source": [
        "## Input Data\n",
        "movie_title = input('請輸入電影名稱：')\n",
        "movie_rating = float(input('請輸入電影的評等：'))\n",
        "\n",
        "if movie_rating > 7:\n",
        "    print(f\"去電影院看{movie_title}\")\n",
        "elif movie_rating > 6:\n",
        "    print(f\"在家裡看{movie_title}\")\n",
        "else:\n",
        "    print(f\"不要看{movie_title}\")"
      ],
      "execution_count": 7,
      "outputs": [
        {
          "output_type": "stream",
          "text": [
            "請輸入電影名稱：Father\n",
            "請輸入電影的評等：8.3\n",
            "去電影院看Father\n"
          ],
          "name": "stdout"
        }
      ]
    },
    {
      "cell_type": "code",
      "metadata": {
        "colab": {
          "base_uri": "https://localhost:8080/"
        },
        "id": "y5LxC8ME6Hpd",
        "outputId": "bd5f1d03-f95e-4267-bf82-b83c636e646a"
      },
      "source": [
        "## Input Data\n",
        " \n",
        "id_number = input(\"請輸入身分證字號：\")\n",
        "id_last_digit = id_number[-1] \n",
        "id_last_digit = int(id_last_digit) \n",
        "if id_last_digit % 2 == 0:\n",
        "  ans = \"偶數，請星期二四六日領口罩\"\n",
        "else:\n",
        "  ans = \"奇數，請星期一三五日領口罩\"\n",
        "print(ans)"
      ],
      "execution_count": 12,
      "outputs": [
        {
          "output_type": "stream",
          "text": [
            "請輸入身分證字號：B223423523\n",
            "奇數，請星期一三五日領口罩\n"
          ],
          "name": "stdout"
        }
      ]
    },
    {
      "cell_type": "code",
      "metadata": {
        "colab": {
          "base_uri": "https://localhost:8080/"
        },
        "id": "Ri054NcS6dms",
        "outputId": "aeaf076c-464d-4ee5-83f3-df69d00e77dc"
      },
      "source": [
        "## Input Data\n",
        "user_int = int(input(\"請輸入身份證的最後一個正整數：\"))\n",
        "if user_int % 2 == 0:\n",
        "   ans = \"偶數，請星期二四六日領口罩\"\n",
        "if user_int % 2 == 1:\n",
        "   ans = \"奇數，請星期一三五日領口罩\"\n",
        "print(ans)"
      ],
      "execution_count": 10,
      "outputs": [
        {
          "output_type": "stream",
          "text": [
            "請輸入身份證的最後一個正整數：3\n",
            "奇數，請星期一三五日領口罩\n"
          ],
          "name": "stdout"
        }
      ]
    },
    {
      "cell_type": "code",
      "metadata": {
        "colab": {
          "base_uri": "https://localhost:8080/"
        },
        "id": "C9UG7FEB7Pac",
        "outputId": "e0203e20-aaed-4b83-fc8b-f1af70bd87a5"
      },
      "source": [
        "## Input Data\n",
        "id_number = input(\"請輸入身分證字號：\")\n",
        "id_second_digit = id_number[1] \n",
        "if id_second_digit == '1':\n",
        "  gender = \"Male\"\n",
        "else:\n",
        "  gender = \"Female\"\n",
        "print(gender)"
      ],
      "execution_count": 13,
      "outputs": [
        {
          "output_type": "stream",
          "text": [
            "請輸入身分證字號：B223423523\n",
            "Female\n"
          ],
          "name": "stdout"
        }
      ]
    },
    {
      "cell_type": "code",
      "metadata": {
        "colab": {
          "base_uri": "https://localhost:8080/"
        },
        "id": "wl2fPeuW7qx0",
        "outputId": "21cf674f-cc3e-43be-d98a-941693d12575"
      },
      "source": [
        "## 我隨自己的意思出拳，電腦則是隨機出拳\n",
        "my = int(input(\"請出拳 [0] 剪刀 [1] 石頭 [2] 布\"))\n",
        "print(\"我出拳為\", my)\n",
        "import random \n",
        "computer = random.randint(0, 2) \n",
        "print(\"電腦出拳為\", computer)\n",
        "if my == 0:\n",
        "   if computer == 0:\n",
        "    print('平手')\n",
        "   elif computer == 1:\n",
        "    print('電腦獲勝')\n",
        "   else:\n",
        "    print('玩家獲勝')\n",
        "elif my == 1:\n",
        "   if computer == 0:\n",
        "    print('玩家獲勝')\n",
        "   elif computer == 1:\n",
        "    print('平手')\n",
        "   else:\n",
        "    print('電腦獲勝')\n",
        "else:\n",
        "   if computer == 1:\n",
        "    print('電腦獲勝')\n",
        "   elif computer == 2:\n",
        "    print('玩家獲勝')\n",
        "   else:\n",
        "    print('平手')"
      ],
      "execution_count": 17,
      "outputs": [
        {
          "output_type": "stream",
          "text": [
            "請出拳 [0] 剪刀 [1] 石頭 [2] 布2\n",
            "我出拳為 2\n",
            "電腦出拳為 1\n",
            "電腦獲勝\n"
          ],
          "name": "stdout"
        }
      ]
    }
  ]
}