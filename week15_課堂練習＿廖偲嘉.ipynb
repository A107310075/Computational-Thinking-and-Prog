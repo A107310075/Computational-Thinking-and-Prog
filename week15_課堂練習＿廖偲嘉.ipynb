{
  "nbformat": 4,
  "nbformat_minor": 0,
  "metadata": {
    "colab": {
      "name": "week15_課堂練習＿廖偲嘉.ipynb",
      "provenance": [],
      "authorship_tag": "ABX9TyPyyfYU4HY9BLPQLHD+/0EV",
      "include_colab_link": true
    },
    "kernelspec": {
      "name": "python3",
      "display_name": "Python 3"
    },
    "language_info": {
      "name": "python"
    }
  },
  "cells": [
    {
      "cell_type": "markdown",
      "metadata": {
        "id": "view-in-github",
        "colab_type": "text"
      },
      "source": [
        "<a href=\"https://colab.research.google.com/github/A107310075/Computational-Thinking-and-Prog/blob/main/week15_%E8%AA%B2%E5%A0%82%E7%B7%B4%E7%BF%92%EF%BC%BF%E5%BB%96%E5%81%B2%E5%98%89.ipynb\" target=\"_parent\"><img src=\"https://colab.research.google.com/assets/colab-badge.svg\" alt=\"Open In Colab\"/></a>"
      ]
    },
    {
      "cell_type": "code",
      "metadata": {
        "colab": {
          "base_uri": "https://localhost:8080/"
        },
        "id": "lXOuq0xfxJ7W",
        "outputId": "ea58ac92-4ec9-426b-9c81-659996035f18"
      },
      "source": [
        "## 解題1: 輸入遊戲情境相關資訊\n",
        "print(\"You are on a deserted island in a 2D world.\")\n",
        "print(\"Try to survive until rescue arrives!\")\n",
        "print(\"Available commands are in CAPITAL letters.\")\n",
        "print(\"Any other command exits the program\")\n",
        "print(\"First LOOK around...\")"
      ],
      "execution_count": 1,
      "outputs": [
        {
          "output_type": "stream",
          "text": [
            "You are on a deserted island in a 2D world.\n",
            "Try to survive until rescue arrives!\n",
            "Available commands are in CAPITAL letters.\n",
            "Any other command exits the program\n",
            "First LOOK around...\n"
          ],
          "name": "stdout"
        }
      ]
    },
    {
      "cell_type": "code",
      "metadata": {
        "colab": {
          "base_uri": "https://localhost:8080/"
        },
        "id": "vpG9fazRAXCB",
        "outputId": "3117adcf-c902-4b54-a689-ff2f17bd14ad"
      },
      "source": [
        "## 冒險遊戲說明，顯示簡介\n",
        "print(\"歡迎來到聖塔克魯茲山上冒險遊戲！\")\n",
        "print(\"********************************************\")\n",
        "print(\"你現在在加州聖塔克魯茲。\")\n",
        "print(\"你在傍晚一個人爬山。\")\n",
        "print(\"你可以帶一項物品上路：\")\n",
        "print(\"地圖(MAP)、手電筒(FLASH)、巧克力(CHOCOLATE)、繩子(ROPE)、或棒子（STICK):\")\n",
        "## 從使用者取得物品選擇\n",
        "## Question1:爬山帶什麼\n",
        "item = input(\"你選擇那個？ \")\n",
        "## 開始冒險之旅\n",
        "print(\"你聽到嗡嗡聲。\")\n",
        "## 冒險旅程中的選擇\n",
        "## Question2: 遇險 - 聽到怪聲\n",
        "choice1 = input(\"要尋找聲音的來源嗎？ 請輸入YES 或 NO: \")\n",
        "if choice1 == \"YES\":\n",
        "\n",
        "    print(\"你向聲音接近。\")\n",
        "    print(\"聲音突然停止。\")\n",
        "    print(\"你迷路了！...\")\n",
        "    print(\"你嘗試打電話，但沒有訊號！\")\n",
        "else:\n",
        "    print(\"好主意。你沒有冒險。\")\n",
        "    print(\"你開始走回起點。\")\n",
        "    print(\"你發你發現自己迷路了！\")\n",
        "    print(\"身後聲音越來越大，你開始驚慌！\")"
      ],
      "execution_count": 9,
      "outputs": [
        {
          "output_type": "stream",
          "text": [
            "歡迎來到聖塔克魯茲山上冒險遊戲！\n",
            "********************************************\n",
            "你現在在加州聖塔克魯茲。\n",
            "你在傍晚一個人爬山。\n",
            "你可以帶一項物品上路：\n",
            "地圖(MAP)、手電筒(FLASH)、巧克力(CHOCOLATE)、繩子(ROPE)、或棒子（STICK):\n",
            "你選擇那個？ 手電筒\n",
            "你聽到嗡嗡聲。\n",
            "要尋找聲音的來源嗎？ 請輸入YES 或 NO: yes\n",
            "好主意。你沒有冒險。\n",
            "你開始走回起點。\n",
            "你發你發現自己迷路了！\n",
            "身後聲音越來越大，你開始驚慌！\n"
          ],
          "name": "stdout"
        }
      ]
    },
    {
      "cell_type": "code",
      "metadata": {
        "colab": {
          "base_uri": "https://localhost:8080/"
        },
        "id": "lJFF_RDbA_Gl",
        "outputId": "a8981e86-a9fb-4a32-c782-0db1d411982a"
      },
      "source": [
        "action = input(\"開始跑或停下來打電話？ 選擇RUN或CALL: \")\n",
        "## 條件選擇(與迴圈)。這裡用while更好, if 也沒有問題。\n",
        "if action == \"CALL\":\n",
        "    print(\"電話不通。\")\n",
        "    print(\"你拼命地快跑，而聲音越來越大。\")\n",
        "# while action == \"CALL\":\n",
        "# print(\"電話不通。\")\n",
        "# action = input(\"要跑或再打一次電話？ 選擇RUN或CALL： \") ## 用while加上這行程式，if就略過\n",
        "# print(\"你拼命地快跑，而聲音越來越大。\") "
      ],
      "execution_count": 12,
      "outputs": [
        {
          "output_type": "stream",
          "text": [
            "開始跑或停下來打電話？ 選擇RUN或CALL: CALL\n",
            "電話不通。\n",
            "你拼命地快跑，而聲音越來越大。\n"
          ],
          "name": "stdout"
        }
      ]
    },
    {
      "cell_type": "code",
      "metadata": {
        "colab": {
          "base_uri": "https://localhost:8080/"
        },
        "id": "0w6KNaAIBNVh",
        "outputId": "41481551-7574-4fd2-a474-871725a93b40"
      },
      "source": [
        "direction = input(\"你要往那個方向前進？ 北(NORTH)、南(SOUTH)、東(EAST)或西(WEST)： \")\n",
        "if direction == \"NORTH\":\n",
        "    print(\"你抵達廢棄小屋。\")\n",
        "    if item == \"MAP\":\n",
        "        print(\"你用地圖找到回家之路。\")\n",
        "        print(\"恭喜！你破關了。\")\n",
        "    else:\n",
        "        print(\"如果你有地圖，就能找到從這裡回家的路。\")\n",
        "        print(\"---你還在迷路！你輸了。---\")\n",
        "elif direction == \"SOUTH\":\n",
        "     print(\"你抵達有斷橋的河流。\")\n",
        "     if item == \"ROPE\" or item == \"STICK\":\n",
        "        print(\"你選了可以修好橋樑的物品。\")\n",
        "        print(\"你修好橋樑、過橋，並找到回家的路。\")\n",
        "        print(\"恭喜！你破關了。\")\n",
        "     else:\n",
        "        print(\"如果你有繩子或棒子，就能修好橋樑。\")\n",
        "        print(\"---你還是在迷路。你輸了。---\")\n",
        "elif direction == \"WEST\":\n",
        "    print(\"你走路時被傾倒的樹絆倒。\")\n",
        "    print(\"你腳受傷了。你坐下等待救援。\")\n",
        "    print(\"這可能要花很久時間。你還在迷路。\")\n",
        "    print(\"---你輸了。---\")\n",
        "else:\n",
        "    print(\"你抵達公路邊。很暗。\")\n",
        "    if item == \"FLASH\":\n",
        "        print(\"你用手電筒發出訊號。\")\n",
        "        print(\"一輛車停下來，載你回家。\")\n",
        "        print(\"恭喜你！你破關了，安全回到家。\")\n",
        "    else:\n",
        "        print(\"如果你有手電筒，就能發出求救訊號。\")\n",
        "        print(\"---你還是在迷路。你輸了---\")"
      ],
      "execution_count": 14,
      "outputs": [
        {
          "output_type": "stream",
          "text": [
            "你要往那個方向前進？ 北(NORTH)、南(SOUTH)、東(EAST)或西(WEST)： 北\n",
            "你抵達公路邊。很暗。\n",
            "如果你有手電筒，就能發出求救訊號。\n",
            "---你還是在迷路。你輸了---\n"
          ],
          "name": "stdout"
        }
      ]
    }
  ]
}