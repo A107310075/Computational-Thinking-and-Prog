{
  "nbformat": 4,
  "nbformat_minor": 0,
  "metadata": {
    "colab": {
      "name": "廖偲嘉-Week3-練習作業.ipynb",
      "provenance": [],
      "toc_visible": true,
      "authorship_tag": "ABX9TyNVDZheOSS8YdHMiZq08cgZ",
      "include_colab_link": true
    },
    "kernelspec": {
      "name": "python3",
      "display_name": "Python 3"
    }
  },
  "cells": [
    {
      "cell_type": "markdown",
      "metadata": {
        "id": "view-in-github",
        "colab_type": "text"
      },
      "source": [
        "<a href=\"https://colab.research.google.com/github/A107310075/Computational-Thinking-and-Prog/blob/main/%E5%BB%96%E5%81%B2%E5%98%89_Week3_%E7%B7%B4%E7%BF%92%E4%BD%9C%E6%A5%AD.ipynb\" target=\"_parent\"><img src=\"https://colab.research.google.com/assets/colab-badge.svg\" alt=\"Open In Colab\"/></a>"
      ]
    },
    {
      "cell_type": "markdown",
      "metadata": {
        "id": "mkJiRopDNqd-"
      },
      "source": [
        "# 隨堂練習"
      ]
    },
    {
      "cell_type": "markdown",
      "metadata": {
        "id": "o2DUAFe9TQ_e"
      },
      "source": [
        "**隨堂練習為各單元重點摘要**\r\n",
        "\r\n",
        "1.認識電腦:\r\n",
        "\r\n",
        "*電腦改變生活和工作的方式。舉例:導航、即時通、網路訂票\r\n",
        "\r\n",
        "*用電腦解決問題。\r\n",
        "\r\n",
        "*電腦主要是由硬體與軟體兩部分。\r\n",
        "\r\n",
        "*輸入-處理-輸出\r\n",
        "\r\n",
        "*計算用硬體:CPU、FRU、GPU\r\n",
        "\r\n",
        "*電腦軟硬體都是以「輸入-處理-輸出」為架構。\r\n",
        "\r\n",
        "2.程式語言\r\n",
        "\r\n",
        "*電腦與人溝通的橋樑。\r\n",
        "\r\n",
        "*0與1就是電腦唯一會說的話。電腦只需要利用零和一這兩種數字，就可以處理很多的問題。\r\n",
        "\r\n",
        "*程式語言(Program lamguage)是人和電腦溝通的媒介，透過它命令電腦工作，達成我們想要完成的任務，這些指令的集合就是程式。\r\n",
        "\r\n",
        "*運算思維是一種解決的方法\r\n",
        "\r\n",
        "*問題解決 → 模式辨識 → 抽象化 → 演算法\r\n",
        "\r\n",
        "*\r\n",
        "階段一: Anslysis - 運算思維。\r\n",
        "階段二: Design -  程式設計。\r\n",
        "階段三: Coding -  撰寫程式。\r\n",
        "階段四: Testing - 測試與除錯。\r\n",
        "\r\n",
        "\r\n",
        "---\r\n",
        "\r\n",
        "\r\n"
      ]
    },
    {
      "cell_type": "markdown",
      "metadata": {
        "id": "o7QcuIzJN9Vd"
      },
      "source": [
        "#課後作業\r\n"
      ]
    },
    {
      "cell_type": "markdown",
      "metadata": {
        "id": "GF4TI1tNQjYO"
      },
      "source": [
        "**P#實習經驗談》新聞編輯為什麼要學程式設計？**\r\n",
        "\r\n",
        "https://medium.com/dd-story-hub/p-%E5%AF%A6%E7%BF%92%E7%B6%93%E9%A9%97%E8%AB%87-%E6%96%B0%E8%81%9E%E7%B7%A8%E8%BC%AF%E7%82%BA%E4%BB%80%E9%BA%BC%E8%A6%81%E5%AD%B8%E7%A8%8B%E5%BC%8F%E8%A8%AD%E8%A8%88-bb375fc83bf6\r\n",
        "\r\n"
      ]
    },
    {
      "cell_type": "markdown",
      "metadata": {
        "id": "tyg1abI7O1f1"
      },
      "source": [
        "雖然程式設計對很多文組的學生來說相當陌生，甚至退卻三步，但其實在科技愈加發達的現今，已經成為生活的一部分，且不可分割了。如新聞內所提到的，多會一種工具，也就是程式設計，能讓自身更有彈性，這就是何謂用對工具做事便能提高效率。而其他優點如能夠提出更具體的數位敘事建議和追蹤專題成效、檢視敘事設計自己來，都是使現在教育愈加重視程式設計這塊的一大原因，在大學也成了學校必修的課程。而不管今天讀的是甚麼系，都對將來出入幫助極大，現在或許看來沒什麼改變，但早在生活中密不可分了。\r\n"
      ]
    }
  ]
}