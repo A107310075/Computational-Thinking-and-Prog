{
  "nbformat": 4,
  "nbformat_minor": 0,
  "metadata": {
    "colab": {
      "name": "廖偲嘉-Week7-隨堂練習.ipynb",
      "provenance": [],
      "authorship_tag": "ABX9TyMAC41WRInglRqOLCd809Ya",
      "include_colab_link": true
    },
    "kernelspec": {
      "name": "python3",
      "display_name": "Python 3"
    },
    "language_info": {
      "name": "python"
    }
  },
  "cells": [
    {
      "cell_type": "markdown",
      "metadata": {
        "id": "view-in-github",
        "colab_type": "text"
      },
      "source": [
        "<a href=\"https://colab.research.google.com/github/A107310075/Computational-Thinking-and-Prog/blob/main/%E5%BB%96%E5%81%B2%E5%98%89_Week7_%E9%9A%A8%E5%A0%82%E7%B7%B4%E7%BF%92.ipynb\" target=\"_parent\"><img src=\"https://colab.research.google.com/assets/colab-badge.svg\" alt=\"Open In Colab\"/></a>"
      ]
    },
    {
      "cell_type": "code",
      "metadata": {
        "colab": {
          "base_uri": "https://localhost:8080/"
        },
        "id": "3vnAv2vwgYhe",
        "outputId": "d92a8f73-bd0d-47f0-b9fc-17d64aadf300"
      },
      "source": [
        "total = 0\n",
        "fruit = \"Apple\"\n",
        "number = 2\n",
        "total = total + number\n",
        "# print(\"摘了\"，fruit, \"摘了\", number, \"個, 總共摘了\", total, \"個水果\")\n",
        "print(f\"摘了{fruit}、 摘了{number}個, 總共摘了{total}個水果\")\n",
        "\n",
        "total = 2\n",
        "fruit = \"Pear\"\n",
        "number = 1\n",
        "total = total + number\n",
        "# print(\"摘了\"，fruit, \"摘了\", number, \"個, 總共摘了\", total, \"個水果\")\n",
        "print(f\"摘了{fruit}、 摘了{number}個, 總共摘了{total}個水果\")\n",
        "\n",
        "total = 3\n",
        "fruit = \"Peach\"\n",
        "number = 3\n",
        "total = total + number\n",
        "# print(\"摘了\"，fruit, \"摘了\", number, \"個, 總共摘了\", total, \"個水果\")\n",
        "print(f\"摘了{fruit}、 摘了{number}個, 總共摘了{total}個水果\")\n",
        "\n",
        "total = 6\n",
        "fruit = \"Banana\"\n",
        "number = 6\n",
        "total = total + number\n",
        "# print(\"摘了\"，fruit, \"摘了\", number, \"個, 總共摘了\", total, \"個水果\")\n",
        "print(f\"摘了{fruit}、 摘了{number}個, 總共摘了{total}個水果\")\n",
        "\n",
        "\n"
      ],
      "execution_count": 11,
      "outputs": [
        {
          "output_type": "stream",
          "text": [
            "摘了Apple、 摘了2個, 總共摘了2個水果\n",
            "摘了Pear、 摘了1個, 總共摘了3個水果\n",
            "摘了Peach、 摘了3個, 總共摘了6個水果\n",
            "摘了Banana、 摘了6個, 總共摘了12個水果\n"
          ],
          "name": "stdout"
        }
      ]
    },
    {
      "cell_type": "code",
      "metadata": {
        "colab": {
          "base_uri": "https://localhost:8080/"
        },
        "id": "qC00hToJjj9h",
        "outputId": "ffc60656-68ef-4037-faf1-9d76cb7db6a3"
      },
      "source": [
        "name = input('請問貴姓大名?')\n",
        "print('你好, ', name)"
      ],
      "execution_count": 12,
      "outputs": [
        {
          "output_type": "stream",
          "text": [
            "請問貴姓大名?Olivia\n",
            "你好,  Olivia\n"
          ],
          "name": "stdout"
        }
      ]
    },
    {
      "cell_type": "code",
      "metadata": {
        "colab": {
          "base_uri": "https://localhost:8080/"
        },
        "id": "MR-4aWTbkH_P",
        "outputId": "cc8df742-b9ea-43a6-aed7-0ded4fefe969"
      },
      "source": [
        "weight = eval(input('請問體重?'))\n",
        "print(type(weight))\n",
        "print('體重為', weight)"
      ],
      "execution_count": 15,
      "outputs": [
        {
          "output_type": "stream",
          "text": [
            "請問體重?45\n",
            "<class 'int'>\n",
            "體重為 45\n"
          ],
          "name": "stdout"
        }
      ]
    },
    {
      "cell_type": "code",
      "metadata": {
        "colab": {
          "base_uri": "https://localhost:8080/"
        },
        "id": "77ysBHexkrPt",
        "outputId": "654591b5-11f9-4430-8871-51233df9da12"
      },
      "source": [
        "## Input\n",
        "PI = 3.14\n",
        "r1 = input(\"Enter radius 1: \")\n",
        "r2 = input(\"Enter radius 2: \")\n",
        "r1 = float(r1)\n",
        "r2 = float(r2)\n",
        "\n",
        "## Process\n",
        "area1 = PI * r1 * r1\n",
        "area2 = PI * r2 * r2\n",
        "area = area1 - area2\n",
        "\n",
        "## Output\n",
        "print(area)"
      ],
      "execution_count": 24,
      "outputs": [
        {
          "output_type": "stream",
          "text": [
            "Enter radius 1: 8\n",
            "Enter radius 2: 6\n",
            "87.92000000000002\n"
          ],
          "name": "stdout"
        }
      ]
    },
    {
      "cell_type": "markdown",
      "metadata": {
        "id": "RxiaEyXNqaUe"
      },
      "source": [
        "**隨堂練習 : 英制轉公制**\n",
        "將⾝⾼由英制改成公制，例如5尺8吋換算成公制，1尺等於12吋，1吋等於2.54公\n",
        "分，轉換公式為(512+8)2.54等於172.72公分。"
      ]
    },
    {
      "cell_type": "code",
      "metadata": {
        "colab": {
          "base_uri": "https://localhost:8080/"
        },
        "id": "8EzjwuacoGxP",
        "outputId": "f2e84c83-fa9b-475b-c81b-951bc521ca4c"
      },
      "source": [
        "f = int(input('請輸入幾尺?'))\n",
        "i = int(input('請輸入幾吋?'))\n",
        "ans = (f*12+i)*2.54\n",
        "print('轉換成', ans,'公分')\n"
      ],
      "execution_count": 25,
      "outputs": [
        {
          "output_type": "stream",
          "text": [
            "請輸入幾尺?5\n",
            "請輸入幾吋?8\n",
            "轉換成 172.72 公分\n"
          ],
          "name": "stdout"
        }
      ]
    }
  ]
}