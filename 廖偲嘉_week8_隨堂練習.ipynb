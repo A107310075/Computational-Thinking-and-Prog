{
  "nbformat": 4,
  "nbformat_minor": 0,
  "metadata": {
    "colab": {
      "name": "廖偲嘉-week8-隨堂練習.ipynb",
      "provenance": [],
      "authorship_tag": "ABX9TyOduEYDprASasdgVQK8/g06",
      "include_colab_link": true
    },
    "kernelspec": {
      "name": "python3",
      "display_name": "Python 3"
    },
    "language_info": {
      "name": "python"
    }
  },
  "cells": [
    {
      "cell_type": "markdown",
      "metadata": {
        "id": "view-in-github",
        "colab_type": "text"
      },
      "source": [
        "<a href=\"https://colab.research.google.com/github/A107310075/Computational-Thinking-and-Prog/blob/main/%E5%BB%96%E5%81%B2%E5%98%89_week8_%E9%9A%A8%E5%A0%82%E7%B7%B4%E7%BF%92.ipynb\" target=\"_parent\"><img src=\"https://colab.research.google.com/assets/colab-badge.svg\" alt=\"Open In Colab\"/></a>"
      ]
    },
    {
      "cell_type": "code",
      "metadata": {
        "colab": {
          "base_uri": "https://localhost:8080/"
        },
        "id": "6bTyFDI8Z-sM",
        "outputId": "ca01e8b3-d117-41c2-a500-70e04e8bb2e5"
      },
      "source": [
        "## Input\n",
        "a = 13\n",
        "b = 11\n",
        "## Process\n",
        "t = a\n",
        "a = b\n",
        "b = t\n",
        "## Output\n",
        "print(\"a = \", a, \"b = \", b)\n"
      ],
      "execution_count": 3,
      "outputs": [
        {
          "output_type": "stream",
          "text": [
            "a =  11 b =  13\n"
          ],
          "name": "stdout"
        }
      ]
    },
    {
      "cell_type": "code",
      "metadata": {
        "colab": {
          "base_uri": "https://localhost:8080/"
        },
        "id": "qdYWnNNae29q",
        "outputId": "04ae301b-8141-461f-ed6d-b61dc571ad8c"
      },
      "source": [
        "## Input\n",
        "a, b, c, d, e, f = eval(input(\"Enter a number\"))\n",
        "\n",
        "## Process + Output\n",
        "a = a//3 ; b = b + a ; f = f + a\n",
        "print(f\"a = {a}, b = {b}, c = {c}, d = {d}, e = {e}, f = {f}\")\n",
        "\n",
        "b = b//3 ; a = a + b ; c = c + b\n",
        "print(f\"a = {a}, b = {b}, c = {c}, d = {d}, e = {e}, f = {f}\")\n",
        "\n",
        "c = c//3 ; b = b + c ; d = d + c\n",
        "print(f\"a = {a}, b = {b}, c = {c}, d = {d}, e = {e}, f = {f}\")\n",
        "\n",
        "d = d//3 ; c = c + d ; e = d + c\n",
        "print(f\"a = {a}, b = {b}, c = {c}, d = {d}, e = {e}, f = {f}\")\n",
        "\n",
        "e = e//3 ; e = d + e ; f = d + c\n",
        "print(f\"a = {a}, b = {b}, c = {c}, d = {d}, e = {e}, f = {f}\")\n",
        "\n",
        "f = f//3 ; f = e + f ; d = d + c\n",
        "print(f\"a = {a}, b = {b}, c = {c}, d = {d}, e = {e}, f = {f}\")"
      ],
      "execution_count": 12,
      "outputs": [
        {
          "output_type": "stream",
          "text": [
            "Enter a number1,2,3,4,5,6\n",
            "a = 0, b = 2, c = 3, d = 4, e = 5, f = 6\n",
            "a = 0, b = 0, c = 3, d = 4, e = 5, f = 6\n",
            "a = 0, b = 1, c = 1, d = 5, e = 5, f = 6\n",
            "a = 0, b = 1, c = 2, d = 1, e = 3, f = 6\n",
            "a = 0, b = 1, c = 2, d = 1, e = 2, f = 3\n",
            "a = 0, b = 1, c = 2, d = 3, e = 2, f = 3\n"
          ],
          "name": "stdout"
        }
      ]
    },
    {
      "cell_type": "code",
      "metadata": {
        "colab": {
          "base_uri": "https://localhost:8080/"
        },
        "id": "ydbcBh07ltC3",
        "outputId": "b7955cf2-d2a9-40af-9b5a-acbfe484cb45"
      },
      "source": [
        "## Total = 200 * 幾打 + 20 * 罐\n",
        "## Input Data\n",
        "cans = int(input('請輸入購買飲料的罐數?')) #數字轉文字\n",
        "## Process\n",
        "total = (cans//12)*200 + (cans%12)*20\n",
        "## Output\n",
        "print('需花費', total)\n",
        "\n"
      ],
      "execution_count": 15,
      "outputs": [
        {
          "output_type": "stream",
          "text": [
            "請輸入購買飲料的罐數?124\n",
            "需花費 2080\n"
          ],
          "name": "stdout"
        }
      ]
    },
    {
      "cell_type": "code",
      "metadata": {
        "colab": {
          "base_uri": "https://localhost:8080/"
        },
        "id": "lpFh8LjunaMA",
        "outputId": "31cb839a-e039-45e0-feaa-5064338c9533"
      },
      "source": [
        "In [1]: ## 計算三次成績的總和與平均\n",
        "   ...: ## Input Data\n",
        "   ...: first = int(input('請輸入第一次期中考成績？'))\n",
        "   ...: second = int(input('請輸入第二次期中考成績？'))\n",
        "   ...: final = int(input('請輸入期末考成績？'))\n",
        "   ...: ## Process\n",
        "   ...: sum = first + second + final\n",
        "   ...: average = sum/3\n",
        "   ...: ## Output\n",
        "   ...: print('總分為', sum, '平均為', average)"
      ],
      "execution_count": 16,
      "outputs": [
        {
          "output_type": "stream",
          "text": [
            "請輸入第一次期中考成績？85\n",
            "請輸入第二次期中考成績？96\n",
            "請輸入期末考成績？92\n",
            "總分為 273 平均為 91.0\n"
          ],
          "name": "stdout"
        }
      ]
    },
    {
      "cell_type": "code",
      "metadata": {
        "id": "qKZwz1hIkUaQ"
      },
      "source": [
        ""
      ],
      "execution_count": null,
      "outputs": []
    }
  ]
}